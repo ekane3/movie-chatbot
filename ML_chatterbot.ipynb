{
 "cells": [
  {
   "cell_type": "code",
   "execution_count": 53,
   "metadata": {},
   "outputs": [],
   "source": [
    "import re\n",
    "from nltk.tokenize import word_tokenize, sent_tokenize\n",
    "from nltk.stem.wordnet import WordNetLemmatizer\n",
    "from nltk.corpus import stopwords, wordnet as wn\n",
    "from collections import defaultdict\n",
    "import nltk\n",
    "from sklearn.feature_extraction.text import TfidfVectorizer\n",
    "from sklearn.metrics.pairwise import cosine_similarity\n",
    "import string\n",
    "import pandas as pd"
   ]
  },
  {
   "attachments": {},
   "cell_type": "markdown",
   "metadata": {},
   "source": [
    "# Processing Data"
   ]
  },
  {
   "cell_type": "code",
   "execution_count": 54,
   "metadata": {},
   "outputs": [],
   "source": [
    "df = pd.read_csv(\"movies.csv\")"
   ]
  },
  {
   "cell_type": "code",
   "execution_count": 55,
   "metadata": {},
   "outputs": [
    {
     "data": {
      "text/html": [
       "<div>\n",
       "<style scoped>\n",
       "    .dataframe tbody tr th:only-of-type {\n",
       "        vertical-align: middle;\n",
       "    }\n",
       "\n",
       "    .dataframe tbody tr th {\n",
       "        vertical-align: top;\n",
       "    }\n",
       "\n",
       "    .dataframe thead th {\n",
       "        text-align: right;\n",
       "    }\n",
       "</style>\n",
       "<table border=\"1\" class=\"dataframe\">\n",
       "  <thead>\n",
       "    <tr style=\"text-align: right;\">\n",
       "      <th></th>\n",
       "      <th>id</th>\n",
       "      <th>title</th>\n",
       "      <th>genres</th>\n",
       "      <th>original_language</th>\n",
       "      <th>overview</th>\n",
       "      <th>popularity</th>\n",
       "      <th>production_companies</th>\n",
       "      <th>release_date</th>\n",
       "      <th>budget</th>\n",
       "      <th>revenue</th>\n",
       "      <th>runtime</th>\n",
       "      <th>status</th>\n",
       "      <th>tagline</th>\n",
       "      <th>vote_average</th>\n",
       "      <th>vote_count</th>\n",
       "      <th>credits</th>\n",
       "      <th>keywords</th>\n",
       "      <th>poster_path</th>\n",
       "      <th>backdrop_path</th>\n",
       "      <th>recommendations</th>\n",
       "    </tr>\n",
       "  </thead>\n",
       "  <tbody>\n",
       "    <tr>\n",
       "      <th>0</th>\n",
       "      <td>505642</td>\n",
       "      <td>Black Panther: Wakanda Forever</td>\n",
       "      <td>Action-Adventure-Science Fiction</td>\n",
       "      <td>en</td>\n",
       "      <td>Queen Ramonda Shuri M’Baku Okoye and the Dora ...</td>\n",
       "      <td>6117.070</td>\n",
       "      <td>Marvel Studios</td>\n",
       "      <td>2022-11-09</td>\n",
       "      <td>250000000.0</td>\n",
       "      <td>835000000.0</td>\n",
       "      <td>162.0</td>\n",
       "      <td>Released</td>\n",
       "      <td>Forever.</td>\n",
       "      <td>7.480</td>\n",
       "      <td>3040.0</td>\n",
       "      <td>Letitia Wright-Lupita Nyong'o-Danai Gurira-Win...</td>\n",
       "      <td>loss of loved one-hero-sequel-superhero-based ...</td>\n",
       "      <td>/sv1xJUazXeYqALzczSZ3O6nkH75.jpg</td>\n",
       "      <td>/xDMIl84Qo5Tsu62c9DGWhmPI67A.jpg</td>\n",
       "      <td>436270-829280-76600-56969-312634-1037858-238-5...</td>\n",
       "    </tr>\n",
       "    <tr>\n",
       "      <th>1</th>\n",
       "      <td>646389</td>\n",
       "      <td>Plane</td>\n",
       "      <td>Action-Adventure-Thriller</td>\n",
       "      <td>en</td>\n",
       "      <td>After a heroic job of successfully landing his...</td>\n",
       "      <td>4867.593</td>\n",
       "      <td>Di Bonaventura Pictures-MadRiver Pictures-Rive...</td>\n",
       "      <td>2023-01-13</td>\n",
       "      <td>25000000.0</td>\n",
       "      <td>29000000.0</td>\n",
       "      <td>107.0</td>\n",
       "      <td>Released</td>\n",
       "      <td>Survive together or die alone.</td>\n",
       "      <td>6.798</td>\n",
       "      <td>364.0</td>\n",
       "      <td>Gerard Butler-Mike Colter-Yoson An-Tony Goldwy...</td>\n",
       "      <td>philippines-held hostage-plane crash</td>\n",
       "      <td>/2g9ZBjUfF1X53EinykJqiBieUaO.jpg</td>\n",
       "      <td>/9Rq14Eyrf7Tu1xk0Pl7VcNbNh1n.jpg</td>\n",
       "      <td>937278-536554-653851-615777-9740-593643-555604...</td>\n",
       "    </tr>\n",
       "    <tr>\n",
       "      <th>2</th>\n",
       "      <td>315162</td>\n",
       "      <td>Puss in Boots: The Last Wish</td>\n",
       "      <td>Animation-Adventure-Comedy-Family-Fantasy</td>\n",
       "      <td>en</td>\n",
       "      <td>Puss in Boots discovers that his passion for a...</td>\n",
       "      <td>4607.945</td>\n",
       "      <td>Universal Pictures-DreamWorks Animation</td>\n",
       "      <td>2022-12-07</td>\n",
       "      <td>90000000.0</td>\n",
       "      <td>393000000.0</td>\n",
       "      <td>103.0</td>\n",
       "      <td>Released</td>\n",
       "      <td>Say hola to his little friends.</td>\n",
       "      <td>8.518</td>\n",
       "      <td>3598.0</td>\n",
       "      <td>Antonio Banderas-Salma Hayek-Harvey Guillén-Wa...</td>\n",
       "      <td>fairy tale-talking dog-spin off-aftercreditsst...</td>\n",
       "      <td>/kuf6dutpsT0vSVehic3EZIqkOBt.jpg</td>\n",
       "      <td>/tGwO4xcBjhXC0p5qlkw37TrH6S6.jpg</td>\n",
       "      <td>536554-76600-816904-653851-899112-985335-83078...</td>\n",
       "    </tr>\n",
       "  </tbody>\n",
       "</table>\n",
       "</div>"
      ],
      "text/plain": [
       "       id                           title  \\\n",
       "0  505642  Black Panther: Wakanda Forever   \n",
       "1  646389                           Plane   \n",
       "2  315162    Puss in Boots: The Last Wish   \n",
       "\n",
       "                                      genres original_language  \\\n",
       "0           Action-Adventure-Science Fiction                en   \n",
       "1                  Action-Adventure-Thriller                en   \n",
       "2  Animation-Adventure-Comedy-Family-Fantasy                en   \n",
       "\n",
       "                                            overview  popularity  \\\n",
       "0  Queen Ramonda Shuri M’Baku Okoye and the Dora ...    6117.070   \n",
       "1  After a heroic job of successfully landing his...    4867.593   \n",
       "2  Puss in Boots discovers that his passion for a...    4607.945   \n",
       "\n",
       "                                production_companies release_date  \\\n",
       "0                                     Marvel Studios   2022-11-09   \n",
       "1  Di Bonaventura Pictures-MadRiver Pictures-Rive...   2023-01-13   \n",
       "2            Universal Pictures-DreamWorks Animation   2022-12-07   \n",
       "\n",
       "        budget      revenue  runtime    status  \\\n",
       "0  250000000.0  835000000.0    162.0  Released   \n",
       "1   25000000.0   29000000.0    107.0  Released   \n",
       "2   90000000.0  393000000.0    103.0  Released   \n",
       "\n",
       "                           tagline  vote_average  vote_count  \\\n",
       "0                         Forever.         7.480      3040.0   \n",
       "1   Survive together or die alone.         6.798       364.0   \n",
       "2  Say hola to his little friends.         8.518      3598.0   \n",
       "\n",
       "                                             credits  \\\n",
       "0  Letitia Wright-Lupita Nyong'o-Danai Gurira-Win...   \n",
       "1  Gerard Butler-Mike Colter-Yoson An-Tony Goldwy...   \n",
       "2  Antonio Banderas-Salma Hayek-Harvey Guillén-Wa...   \n",
       "\n",
       "                                            keywords  \\\n",
       "0  loss of loved one-hero-sequel-superhero-based ...   \n",
       "1               philippines-held hostage-plane crash   \n",
       "2  fairy tale-talking dog-spin off-aftercreditsst...   \n",
       "\n",
       "                        poster_path                     backdrop_path  \\\n",
       "0  /sv1xJUazXeYqALzczSZ3O6nkH75.jpg  /xDMIl84Qo5Tsu62c9DGWhmPI67A.jpg   \n",
       "1  /2g9ZBjUfF1X53EinykJqiBieUaO.jpg  /9Rq14Eyrf7Tu1xk0Pl7VcNbNh1n.jpg   \n",
       "2  /kuf6dutpsT0vSVehic3EZIqkOBt.jpg  /tGwO4xcBjhXC0p5qlkw37TrH6S6.jpg   \n",
       "\n",
       "                                     recommendations  \n",
       "0  436270-829280-76600-56969-312634-1037858-238-5...  \n",
       "1  937278-536554-653851-615777-9740-593643-555604...  \n",
       "2  536554-76600-816904-653851-899112-985335-83078...  "
      ]
     },
     "execution_count": 55,
     "metadata": {},
     "output_type": "execute_result"
    }
   ],
   "source": [
    "df.head(3)"
   ]
  },
  {
   "cell_type": "code",
   "execution_count": 57,
   "metadata": {},
   "outputs": [],
   "source": [
    "df = df.fillna(\" \")\n",
    "df.genres = df.genres.apply(lambda x: x.lower())"
   ]
  },
  {
   "cell_type": "code",
   "execution_count": 58,
   "metadata": {},
   "outputs": [
    {
     "data": {
      "text/plain": [
       "'action-adventure-science fiction'"
      ]
     },
     "execution_count": 58,
     "metadata": {},
     "output_type": "execute_result"
    }
   ],
   "source": [
    "df.genres[0]"
   ]
  },
  {
   "attachments": {},
   "cell_type": "markdown",
   "metadata": {},
   "source": [
    "Dans la celluce suivante on filtre pour obtenir un df avec les choix de genre de film de l'utilisateur"
   ]
  },
  {
   "cell_type": "code",
   "execution_count": 60,
   "metadata": {},
   "outputs": [],
   "source": [
    "elements = [\"science fiction\", \"adventure\", \"action\"]\n",
    "#df[df[\"genres\"].str.contains(\"action\")].head(3)\n",
    "x = df\n",
    "for e in elements:\n",
    "    x = x[x[\"genres\"].str.contains(e)]"
   ]
  },
  {
   "cell_type": "code",
   "execution_count": 61,
   "metadata": {},
   "outputs": [],
   "source": [
    "def cleaning_func(data):\n",
    "    data = data.replace(\"\\n\", \"\")\n",
    "    data = re.sub(\"[\\(\\[].*?[\\)\\]]\", \"\", data)                  # Here I remove les chiffres dans les chochets contained in wikipedia\n",
    "    data = re.sub(r'[0-9]', '', data)                           # Here I remove all the numbers\n",
    "    return data"
   ]
  },
  {
   "cell_type": "code",
   "execution_count": 62,
   "metadata": {},
   "outputs": [],
   "source": [
    "def lemma_tokenize(data):\n",
    "    words = word_tokenize(data)\n",
    "    tag_map = defaultdict(lambda: wn.NOUN)\n",
    "    tag_map['J'] = wn.ADJ\n",
    "    tag_map['V'] = wn.VERB\n",
    "    tag_map['R'] = wn.ADV\n",
    "\n",
    "    lmtzr=WordNetLemmatizer()\n",
    "\n",
    "    lemma_list=[]\n",
    "    words = [x for x in words if x]\n",
    "\n",
    "    for token, tag in nltk.pos_tag(words): #pos = position \n",
    "        lemma = lmtzr.lemmatize(token, tag_map[tag[0]])\n",
    "        if lemma not in stopwords.words('english') and lemma not in string.punctuation:\n",
    "            lemma_list.append(lemma)\n",
    "    return lemma_list"
   ]
  },
  {
   "cell_type": "code",
   "execution_count": 63,
   "metadata": {},
   "outputs": [],
   "source": [
    "def normalize(data):\n",
    "    data_cleaned = cleaning_func(data)\n",
    "    return lemma_tokenize(data_cleaned)"
   ]
  },
  {
   "cell_type": "code",
   "execution_count": 64,
   "metadata": {},
   "outputs": [],
   "source": [
    "sentences = []\n",
    "for e in x.overview:\n",
    "    sentences.append(e)"
   ]
  },
  {
   "attachments": {},
   "cell_type": "markdown",
   "metadata": {},
   "source": [
    "Dans la cellule suivante la fonction utilise le nouveau df et prends en paramètre une mini description de l'utilisateur"
   ]
  },
  {
   "cell_type": "code",
   "execution_count": 65,
   "metadata": {},
   "outputs": [],
   "source": [
    "# Argsort sorts an array and return an array of the sorted indexes\n",
    "# Exemple l = [2,0,9,5]\n",
    "# argsort(l) = [1,0,3,2]\n",
    "\n",
    "def generateResponse(user_response):\n",
    "    ai_res = \"\"\n",
    "    sentences.append(user_response)                                     # I add the the user response in other to vectorize all of that\n",
    "    tfidfvec = TfidfVectorizer(tokenizer = normalize)                   \n",
    "    tfidf = tfidfvec.fit_transform(sentences)\n",
    "    vals = cosine_similarity(tfidf[-1], tfidf[:-2])                     # This step is for calculating the similarity between the user response and the sentences containes in the text\n",
    "    idx=vals.argsort()[0][-1]                                           # We take the most similar sentence.  the \"[-1]\" is because we want to take the highest indew (the most similar sentence)  \n",
    "    flat = vals.flatten()\n",
    "    flat.sort()\n",
    "    req_tfidf = flat[-1]\n",
    "    if(req_tfidf==0):\n",
    "        return \"I am sorry, I couldn't understand you\"\n",
    "    else:\n",
    "        ai_res = ai_res + sentences[idx]\n",
    "        sentences.remove(user_response)\n",
    "        return ai_res"
   ]
  },
  {
   "cell_type": "code",
   "execution_count": 66,
   "metadata": {},
   "outputs": [
    {
     "data": {
      "text/plain": [
       "117700    The Lawless Land\n",
       "Name: title, dtype: object"
      ]
     },
     "execution_count": 66,
     "metadata": {},
     "output_type": "execute_result"
    }
   ],
   "source": [
    "df[df.overview == generateResponse(\"love\")][\"title\"]"
   ]
  },
  {
   "cell_type": "code",
   "execution_count": 68,
   "metadata": {},
   "outputs": [
    {
     "data": {
      "text/plain": [
       "'Action-adventure set in a world of the near-future where young love is forbidden among the lower classes. Nevertheless one couple defies their police-state world to fight and hold on to whatever love they can find.'"
      ]
     },
     "execution_count": 68,
     "metadata": {},
     "output_type": "execute_result"
    }
   ],
   "source": [
    "df.iloc[117700].overview"
   ]
  }
 ],
 "metadata": {
  "kernelspec": {
   "display_name": "Python 3",
   "language": "python",
   "name": "python3"
  },
  "language_info": {
   "codemirror_mode": {
    "name": "ipython",
    "version": 3
   },
   "file_extension": ".py",
   "mimetype": "text/x-python",
   "name": "python",
   "nbconvert_exporter": "python",
   "pygments_lexer": "ipython3",
   "version": "3.9.15"
  },
  "orig_nbformat": 4,
  "vscode": {
   "interpreter": {
    "hash": "397704579725e15f5c7cb49fe5f0341eb7531c82d19f2c29d197e8b64ab5776b"
   }
  }
 },
 "nbformat": 4,
 "nbformat_minor": 2
}
